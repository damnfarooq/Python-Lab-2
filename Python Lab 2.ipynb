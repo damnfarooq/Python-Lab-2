{
 "cells": [
  {
   "cell_type": "markdown",
   "metadata": {},
   "source": [
    "# <h1 align='center' >Computer Application in Engineering Design Lab</h1>\n",
    "<h2 align='center' >Lab 9, BCE Fall 2021</h2>\n",
    "<h3 align='left' >Instructor: Muhammad Farooq Khan</h3>\n",
    "<h4>Date: 29-Nov-2021</h4>"
   ]
  },
  {
   "cell_type": "code",
   "execution_count": 1,
   "metadata": {},
   "outputs": [],
   "source": [
    "# Customer 29876's first name: David\n",
    "# Customer 29876's last name: Elliott\n",
    "# Customer 29876's address: 4803 Wellesley St.\n",
    "# Customer 29876's city: Toronto\n",
    "# Customer 29876's province: ON\n",
    "# Customer 29876's country: Canada\n",
    "# Customer 29876's postal code: M7A1N3"
   ]
  },
  {
   "cell_type": "code",
   "execution_count": 2,
   "metadata": {},
   "outputs": [],
   "source": [
    "jobs_to_do_1st = [\"email\", \"texting\", \"calls\"]\n",
    "customer_29876 = {\"first name\": \"David\", \"last name\": \"Elliott\", \"address\": \"4803 Wellesley St.\"}"
   ]
  },
  {
   "cell_type": "code",
   "execution_count": 3,
   "metadata": {},
   "outputs": [],
   "source": [
    "# key is \"first name\", value is \"David\"\n",
    "# key is \"last name\", value is \"Elliott\"\n",
    "# key is \"address\", value is \"4803 Wellesley St.\"\n"
   ]
  },
  {
   "cell_type": "code",
   "execution_count": 4,
   "metadata": {},
   "outputs": [],
   "source": [
    "# In a dictionary, the code is similar, except that you pick out an element by\n",
    "# specifying its key but not the index:\n",
    "# address_of_customer = customer_29876[\"address\"]\n",
    "# print(address_of_customer)"
   ]
  },
  {
   "cell_type": "code",
   "execution_count": 5,
   "metadata": {},
   "outputs": [
    {
     "name": "stdout",
     "output_type": "stream",
     "text": [
      "Norway\n"
     ]
    }
   ],
   "source": [
    "rankings = {5: \"Finland\", 2: \"Norway\", 3: \"Sweden\",\n",
    "7: \"Iceland\"}\n",
    "second_ranking_country = rankings[2]\n",
    "print(second_ranking_country)"
   ]
  },
  {
   "cell_type": "code",
   "execution_count": 6,
   "metadata": {},
   "outputs": [],
   "source": [
    "things_to_remember = {\n",
    "    0: \"the lowest number\",\n",
    "    \"a dozen\": 12,\n",
    "    \"snake eyes\": \"a pair of ones\",\n",
    "    13: \"a baker's dozen\",\n",
    "}\n"
   ]
  },
  {
   "cell_type": "code",
   "execution_count": 7,
   "metadata": {},
   "outputs": [
    {
     "name": "stdout",
     "output_type": "stream",
     "text": [
      "{'first name': 'David', 'last name': 'Elliott', 'address': '4803 Wellesley St.', 'city': 'Toronto'}\n"
     ]
    }
   ],
   "source": [
    "customer_29876[\"city\"] = \"Toronto\"\n",
    "print(customer_29876)"
   ]
  },
  {
   "cell_type": "code",
   "execution_count": 8,
   "metadata": {},
   "outputs": [],
   "source": [
    "things_to_remember = {}\n",
    "things_to_remember[0] = \"the lowest number\""
   ]
  },
  {
   "cell_type": "code",
   "execution_count": 9,
   "metadata": {},
   "outputs": [],
   "source": [
    "#del tasks[0]\n",
    "del customer_29876[\"address\"]"
   ]
  },
  {
   "cell_type": "code",
   "execution_count": 10,
   "metadata": {},
   "outputs": [],
   "source": [
    "#cities[2] = \"Houston\"\n",
    "customer_29876[\"city\"] = \"Winipeg\""
   ]
  },
  {
   "cell_type": "code",
   "execution_count": 11,
   "metadata": {},
   "outputs": [
    {
     "name": "stdout",
     "output_type": "stream",
     "text": [
      "David\n",
      "Elliott\n"
     ]
    }
   ],
   "source": [
    "print(customer_29876[\"first name\"])\n",
    "print(customer_29876[\"last name\"])\n"
   ]
  },
  {
   "cell_type": "code",
   "execution_count": 12,
   "metadata": {},
   "outputs": [
    {
     "name": "stdout",
     "output_type": "stream",
     "text": [
      "David\n",
      "Elliott\n",
      "Winipeg\n"
     ]
    }
   ],
   "source": [
    "for each_value in customer_29876.values():\n",
    "    print(each_value)\n"
   ]
  },
  {
   "cell_type": "code",
   "execution_count": 13,
   "metadata": {},
   "outputs": [
    {
     "name": "stdout",
     "output_type": "stream",
     "text": [
      "first name\n",
      "last name\n",
      "city\n"
     ]
    }
   ],
   "source": [
    "for each_key in customer_29876.keys():\n",
    "    print(each_key)"
   ]
  },
  {
   "cell_type": "code",
   "execution_count": 14,
   "metadata": {},
   "outputs": [
    {
     "name": "stdout",
     "output_type": "stream",
     "text": [
      "The customer's first name is David\n",
      "The customer's last name is Elliott\n",
      "The customer's city is Winipeg\n"
     ]
    }
   ],
   "source": [
    "for each_key, each_value in customer_29876.items():\n",
    "    print(\"The customer's \" + each_key + \" is \" + each_value)"
   ]
  },
  {
   "cell_type": "code",
   "execution_count": 15,
   "metadata": {},
   "outputs": [],
   "source": [
    "customers = [\n",
    "    {\n",
    "    \"customer id\": 0,\n",
    "    \"first name\":\"John\",\n",
    "    \"last name\": \"Ogden\",\n",
    "    \"address\": \"301 Arbor Rd.\",\n",
    "    },\n",
    "    {\n",
    "    \"customer id\": 1,\n",
    "    \"first name\":\"Ann\",\n",
    "    \"last name\": \"Sattermyer\",\n",
    "    \"address\": \"PO Box 1145\",\n",
    "    },\n",
    "    {\n",
    "    \"customer id\": 2,\n",
    "    \"first name\":\"Jill\",\n",
    "    \"last name\": \"Somers\",\n",
    "    \"address\": \"3 Main St.\",\n",
    "    },\n",
    "]"
   ]
  },
  {
   "cell_type": "code",
   "execution_count": 16,
   "metadata": {},
   "outputs": [],
   "source": [
    "# One more thing that's new: the dictionaries don't have names. There is no\n",
    "# customer_29876. Each customer does have an identifying number, but the\n",
    "# number is no longer part of a dictionary name."
   ]
  },
  {
   "cell_type": "code",
   "execution_count": 17,
   "metadata": {},
   "outputs": [],
   "source": [
    "# dictionary_to_look_in = customers[2870]\n",
    "# customer_address = dictionary_to_look_in[\"address\"]\n",
    "\n",
    "# One constraint presented by this scheme: If you lose a customer, you can't\n",
    "# delete her dictionary from the list. If you do, index numbers of dictionaries will\n",
    "# change. They'll stop matching the customer ids inside them. For example, if you\n",
    "# delete the dictionary that has an index of 350 in the list, whose customer id is\n",
    "# also 350, the next dictionary, with an original index of 351, will now have an\n",
    "# index of 350. The customer's id in that dictionary will still be 351, but the\n",
    "# dictionary's position on the list will have moved up to 350. You'll no longer be\n",
    "# able to target the dictionary by using the customer id. And the same thing will\n",
    "# happen with all the dictionaries that come afterward.\n",
    "# The solution is to keep the original list of dictionaries intact, and create a\n",
    "# second list of customers who are no longer active. Then if, for example, you\n",
    "# want to mail all active customers, you use the second list to filter inactive\n",
    "# customers in the first list out of the mailing list."
   ]
  },
  {
   "cell_type": "raw",
   "metadata": {},
   "source": []
  },
  {
   "cell_type": "code",
   "execution_count": null,
   "metadata": {},
   "outputs": [],
   "source": []
  }
 ],
 "metadata": {
  "kernelspec": {
   "display_name": "Python 3",
   "language": "python",
   "name": "python3"
  },
  "language_info": {
   "codemirror_mode": {
    "name": "ipython",
    "version": 3
   },
   "file_extension": ".py",
   "mimetype": "text/x-python",
   "name": "python",
   "nbconvert_exporter": "python",
   "pygments_lexer": "ipython3",
   "version": "3.7.7"
  }
 },
 "nbformat": 4,
 "nbformat_minor": 4
}
